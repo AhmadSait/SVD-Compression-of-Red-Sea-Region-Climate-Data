{
 "cells": [
  {
   "cell_type": "code",
   "execution_count": 2,
   "metadata": {},
   "outputs": [
    {
     "name": "stdout",
     "output_type": "stream",
     "text": [
      "Requirement already satisfied: tiledb in c:\\users\\atheo\\anaconda3\\envs\\soccernet\\lib\\site-packages (0.32.5)\n",
      "Requirement already satisfied: numpy>=1.25 in c:\\users\\atheo\\anaconda3\\envs\\soccernet\\lib\\site-packages (from tiledb) (1.26.4)\n",
      "Requirement already satisfied: packaging in c:\\users\\atheo\\anaconda3\\envs\\soccernet\\lib\\site-packages (from tiledb) (24.1)\n"
     ]
    }
   ],
   "source": [
    "!pip install tiledb"
   ]
  },
  {
   "cell_type": "code",
   "execution_count": 3,
   "metadata": {},
   "outputs": [
    {
     "name": "stdout",
     "output_type": "stream",
     "text": [
      "0.32.5\n"
     ]
    }
   ],
   "source": [
    "import tiledb\n",
    "import numpy as np\n",
    "from tqdm import tqdm\n",
    "import torch\n",
    "\n",
    "print(tiledb.__version__)"
   ]
  },
  {
   "cell_type": "code",
   "execution_count": 7,
   "metadata": {},
   "outputs": [],
   "source": [
    "import tiledb\n",
    "import numpy as np\n",
    "import os\n",
    "import shutil\n",
    "\n",
    "# Define the dataset parameters for 4000 timestamps\n",
    "T = 4000  # Timestamps\n",
    "X = 855  # Spatial X dimension\n",
    "Y = 1215  # Spatial Y dimension\n",
    "r = 50\n",
    "# **Define ε here:**\n",
    "epsilon = 1e-2\n",
    "dtype = np.float32  # Data type of the `.DAT` file\n",
    "\n",
    "# Paths\n",
    "dat_file_path = r\"Redsea_t2_gan\\Redsea_t2_4k_gan.DAT\"\n",
    "tiledb_array_path = \"arrayD\"\n",
    "tiledb_ur_path = \"arrayUr\"\n",
    "tiledb_sr_path = \"arraySr\"\n",
    "tiledb_vr_path = \"arrayVr\"\n",
    "tiledb_correction_path = \"arrayE_intermediate\"\n",
    "tiledb_quantized_correction_path = \"arrayE\"\n",
    "\n",
    "def creating_quantized_E():\n",
    "    domain = tiledb.Domain(\n",
    "        tiledb.Dim(name=\"time\", domain=(0, T-1), tile=4000, dtype=np.int32),\n",
    "        tiledb.Dim(name=\"x\", domain=(0, X-1), tile=1, dtype=np.int32),\n",
    "        tiledb.Dim(name=\"y\", domain=(0, Y-1), tile=1215, dtype=np.int32),\n",
    "    )\n",
    "    schema = tiledb.ArraySchema(\n",
    "        domain=domain,\n",
    "        sparse=True,\n",
    "        attrs=[tiledb.Attr(name=\"correction\", dtype=np.uint16)]\n",
    "    )\n",
    "    tiledb.SparseArray.create(tiledb_quantized_correction_path, schema) # creating E\n",
    "    \n",
    "    with tiledb.open(tiledb_correction_path, mode=\"r\") as E, tiledb.open(tiledb_quantized_correction_path, mode=\"w\") as quant_E:\n",
    "        # Query the data with coordinates\n",
    "        result = E[:]\n",
    "\n",
    "        # Access the coordinates and values\n",
    "        time_coords = result[\"time\"]  # Replace \"time\" with your dimension name\n",
    "        x_coords = result[\"x\"]        # Replace \"x\" with your dimension name\n",
    "        y_coords = result[\"y\"]        # Replace \"y\" with your dimension name\n",
    "        values_of_E = result[\"correction\"]  # Replace \"correction\" with your attribute name\n",
    "        min_error = values_of_E.min()\n",
    "        max_error = values_of_E.max()\n",
    "        \n",
    "        quantized_E = (np.round((values_of_E - min_error) / (max_error - min_error) * 65535)).astype(np.uint16)\n",
    "        quant_E[time_coords, x_coords, y_coords] = quantized_E\n",
    "\n",
    "    return min_error, max_error\n",
    "\n",
    "# Utility function to delete TileDB paths if they exist\n",
    "def delete_tiledb_paths(paths):\n",
    "    for path in paths:\n",
    "        if os.path.exists(path):\n",
    "            shutil.rmtree(path)\n",
    "            print(f\"Deleted existing TileDB array at: {path}\")\n",
    "\n",
    "# Utility function to get the size of a TileDB array\n",
    "def get_array_size(path):\n",
    "    return sum(os.path.getsize(os.path.join(dirpath, f)) for dirpath, _, files in os.walk(path) for f in files)\n",
    "\n",
    "# Step 1: Create TileDB Array from `.DAT` File\n",
    "def create_tiledb_array(dat_file_path, tiledb_array_path):\n",
    "    \n",
    "    domain = tiledb.Domain(\n",
    "        tiledb.Dim(name=\"time\", domain=(0, T-1), tile=500, dtype=np.int32),\n",
    "        tiledb.Dim(name=\"x\", domain=(0, X-1), tile=1, dtype=np.int32),\n",
    "        tiledb.Dim(name=\"y\", domain=(0, Y-1), tile=1215, dtype=np.int32),\n",
    "    )\n",
    "    schema = tiledb.ArraySchema(\n",
    "        domain=domain,\n",
    "        sparse=False,\n",
    "        attrs=[tiledb.Attr(name=\"temperature\", dtype=dtype)]\n",
    "    )\n",
    "##########################################################################################################################################################\n",
    "    chunksize = 855*1215*500 # loads 500 timesteps at a time\n",
    "    min_value, max_value = 1000, 0\n",
    "\n",
    "    tiledb.DenseArray.create(tiledb_array_path, schema)\n",
    "    with tiledb.DenseArray(tiledb_array_path, mode=\"w\") as array:\n",
    "        total = 0\n",
    "        for i in range(T//500):\n",
    "            data = np.fromfile(dat_file_path, dtype=dtype, count=chunksize, offset=chunksize*i*4, ).reshape(500, X, Y) #loading the whole data (no creativity)\n",
    "            total += np.sum(data)\n",
    "\n",
    "            min_value = min(min_value, data.min())\n",
    "            max_value = max(max_value, data.max())\n",
    "\n",
    "            #calculate data average\n",
    "\n",
    "            array[i*500:(i+1)*500,:,:] = {\"temperature\": data}\n",
    "    print(f\"TileDB array created at {tiledb_array_path}\")\n",
    "    average = total / (T*X*Y)\n",
    "\n",
    "    return min_value, max_value, average\n",
    "#############################################################################################################################################################\n",
    "\n",
    "# Step 2: Perform SVD and Store Components\n",
    "def perform_svd_and_store(tiledb_array_path, tiledb_ur_path, tiledb_sr_path, tiledb_vr_path, r, average):\n",
    "\n",
    "    tiledb.DenseArray.create(tiledb_ur_path, tiledb.ArraySchema(\n",
    "        domain=tiledb.Domain(\n",
    "            tiledb.Dim(name=\"num_svd\", domain=(0, X-1), tile=1, dtype=np.int32), # (how many SVD's, U_r.shape[0], U_r.shape[1])\n",
    "            tiledb.Dim(name=\"rows\", domain=(0, T-1), tile=T, dtype=np.int32), # (how many SVD's, U_r.shape[0], U_r.shape[1])\n",
    "            tiledb.Dim(name=\"cols\", domain=(0, r-1), tile=r, dtype=np.int32)\n",
    "        ),\n",
    "        attrs=[tiledb.Attr(name=\"U_r\", dtype=np.float32)]\n",
    "    ))\n",
    "    tiledb.DenseArray.create(tiledb_sr_path, tiledb.ArraySchema(\n",
    "        domain=tiledb.Domain(\n",
    "            tiledb.Dim(name=\"num_svd\", domain=(0, X-1), tile=1, dtype=np.int32), # (how many SVD's, S_r.shape[0])\n",
    "            tiledb.Dim(name=\"components\", domain=(0, r-1), tile=r, dtype=np.int32) # (how many SVD's, S_r.shape[0])\n",
    "        ),\n",
    "        attrs=[tiledb.Attr(name=\"S_r\", dtype=np.float32)]\n",
    "    ))\n",
    "    tiledb.DenseArray.create(tiledb_vr_path, tiledb.ArraySchema(\n",
    "        domain=tiledb.Domain(\n",
    "            tiledb.Dim(name=\"num_svd\", domain=(0, X-1), tile=1, dtype=np.int32), # (how many SVD's, V_r.shape[0], V_r.shape[1])\n",
    "            tiledb.Dim(name=\"rows\", domain=(0, r-1), tile=r, dtype=np.int32), # (how many SVD's, V_r.shape[0], V_r.shape[1])\n",
    "            tiledb.Dim(name=\"cols\", domain=(0, Y-1), tile=Y, dtype=np.int32) #Txr, rxr, rxY\n",
    "        ),\n",
    "        attrs=[tiledb.Attr(name=\"V_r\", dtype=np.float32)]\n",
    "    ))\n",
    "\n",
    "    with tiledb.DenseArray(tiledb_array_path, mode=\"r\") as array, tiledb.DenseArray(tiledb_ur_path, mode=\"w\") as array_ur, \\\n",
    "        tiledb.DenseArray(tiledb_sr_path, mode=\"w\") as array_sr, tiledb.DenseArray(tiledb_vr_path, mode=\"w\") as array_vr:\n",
    "\n",
    "        for x in tqdm(range(855)): # how many svd's\n",
    "        \n",
    "            data = torch.tensor(array[:, x, :][\"temperature\"], dtype=torch.float32).to(\"cuda:0\") - average\n",
    "\n",
    "            # data_flat = data.reshape(data.shape[0], -1)\n",
    "            U, S, Vt = torch.linalg.svd(data, full_matrices=False)\n",
    "            U_r, S_r, V_r = U[:, :r], S[:r], Vt[:r, :]\n",
    "\n",
    "            # store components in TileDB arrays\n",
    "            U_r = U_r.cpu().numpy()\n",
    "            S_r = S_r.cpu().numpy()\n",
    "            V_r = V_r.cpu().numpy()\n",
    "\n",
    "            array_ur[x,:,:] = {\"U_r\": U_r}\n",
    "            array_sr[x, :] = {\"S_r\": S_r}\n",
    "            array_vr[x,:,:] = {\"V_r\": V_r}\n",
    "\n",
    "    print(f\"SVD components stored in TileDB arrays: {tiledb_ur_path}, {tiledb_sr_path}, {tiledb_vr_path}\")\n",
    "\n",
    "# Step 3: Reconstruct Matrix\n",
    "def reconstruct_matrix(U_r, S_r, V_r, average): # need to loop reconstruct_matrix for each x\n",
    "    S_r_diag = np.diag(S_r)\n",
    "    return np.dot(U_r, np.dot(S_r_diag, V_r)) + average\n",
    "\n",
    "# Step 4: Compute Correction Matrix\n",
    "def compute_correction(D, D_reconstructed, vRange, epsilon):\n",
    "    error = np.abs(D - D_reconstructed)\n",
    "    correction_needed = (error / vRange) > epsilon\n",
    "    correction = np.where(correction_needed, D - D_reconstructed, 0)\n",
    "\n",
    "    return correction\n",
    "\n",
    "# Step 5: Store Correction Matrix\n",
    "def store_correction_matrix(correction, tiledb_correction_path, x):\n",
    "\n",
    "    rows, columns = np.nonzero(correction)\n",
    "\n",
    "    dim_len = [x for i in range(len(rows))]\n",
    "\n",
    "    with tiledb.open(tiledb_correction_path, mode=\"w\") as array:\n",
    "        array[rows, dim_len, columns] = correction[rows, columns] #mapping every element which is nonzero to a 3D coordinate (x, y, z). For first pass: (x, y, z) = (0, rows, columns)\n",
    "\n",
    "# Step 6: Calculate Compression Ratio\n",
    "def calculate_compression_ratio(tiledb_array_path, tiledb_ur_path, tiledb_sr_path, tiledb_vr_path, tiledb_correction_path):\n",
    "    size_D = get_array_size(tiledb_array_path)\n",
    "    size_Ur = get_array_size(tiledb_ur_path)\n",
    "    size_Sr = get_array_size(tiledb_sr_path)\n",
    "    size_Vr = get_array_size(tiledb_vr_path)\n",
    "    size_E = get_array_size(tiledb_correction_path)\n",
    "    compression_ratio = size_D / (size_Ur + size_Sr + size_Vr + size_E)\n",
    "    print(\"size_E: \", size_E/10**6, \"MB\")\n",
    "    print(\"size_Ur + size_Sr + size_Vr: \", (size_Ur + size_Sr + size_Vr)/10**6, \"MB\")\n",
    "    print(f\"Final Compression Ratio (ρ): {compression_ratio:.2f}\")\n",
    "    return compression_ratio\n",
    "\n"
   ]
  },
  {
   "cell_type": "markdown",
   "metadata": {},
   "source": [
    "### Deleting and Creating"
   ]
  },
  {
   "cell_type": "code",
   "execution_count": 8,
   "metadata": {},
   "outputs": [
    {
     "ename": "FileNotFoundError",
     "evalue": "[Errno 2] No such file or directory: 'Redsea_t2_gan\\\\Redsea_t2_4k_gan.DAT'",
     "output_type": "error",
     "traceback": [
      "\u001b[1;31m---------------------------------------------------------------------------\u001b[0m",
      "\u001b[1;31mFileNotFoundError\u001b[0m                         Traceback (most recent call last)",
      "Cell \u001b[1;32mIn[8], line 4\u001b[0m\n\u001b[0;32m      1\u001b[0m \u001b[38;5;66;03m# Delete all existing TileDB arrays\u001b[39;00m\n\u001b[0;32m      2\u001b[0m delete_tiledb_paths([tiledb_array_path, tiledb_ur_path, tiledb_sr_path, tiledb_vr_path, tiledb_correction_path, tiledb_quantized_correction_path])\n\u001b[1;32m----> 4\u001b[0m min_value, max_value, average \u001b[38;5;241m=\u001b[39m \u001b[43mcreate_tiledb_array\u001b[49m\u001b[43m(\u001b[49m\u001b[43mdat_file_path\u001b[49m\u001b[43m,\u001b[49m\u001b[43m \u001b[49m\u001b[43mtiledb_array_path\u001b[49m\u001b[43m)\u001b[49m  \u001b[38;5;66;03m# Step 1\u001b[39;00m\n\u001b[0;32m      5\u001b[0m vRange \u001b[38;5;241m=\u001b[39m max_value \u001b[38;5;241m-\u001b[39m min_value \u001b[38;5;66;03m# using to calculate error bound\u001b[39;00m\n\u001b[0;32m      6\u001b[0m \u001b[38;5;28mprint\u001b[39m(\u001b[38;5;124m\"\u001b[39m\u001b[38;5;124mAverage of D: \u001b[39m\u001b[38;5;124m\"\u001b[39m, average)\n",
      "Cell \u001b[1;32mIn[7], line 86\u001b[0m, in \u001b[0;36mcreate_tiledb_array\u001b[1;34m(dat_file_path, tiledb_array_path)\u001b[0m\n\u001b[0;32m     84\u001b[0m total \u001b[38;5;241m=\u001b[39m \u001b[38;5;241m0\u001b[39m\n\u001b[0;32m     85\u001b[0m \u001b[38;5;28;01mfor\u001b[39;00m i \u001b[38;5;129;01min\u001b[39;00m \u001b[38;5;28mrange\u001b[39m(T\u001b[38;5;241m/\u001b[39m\u001b[38;5;241m/\u001b[39m\u001b[38;5;241m500\u001b[39m):\n\u001b[1;32m---> 86\u001b[0m     data \u001b[38;5;241m=\u001b[39m \u001b[43mnp\u001b[49m\u001b[38;5;241;43m.\u001b[39;49m\u001b[43mfromfile\u001b[49m\u001b[43m(\u001b[49m\u001b[43mdat_file_path\u001b[49m\u001b[43m,\u001b[49m\u001b[43m \u001b[49m\u001b[43mdtype\u001b[49m\u001b[38;5;241;43m=\u001b[39;49m\u001b[43mdtype\u001b[49m\u001b[43m,\u001b[49m\u001b[43m \u001b[49m\u001b[43mcount\u001b[49m\u001b[38;5;241;43m=\u001b[39;49m\u001b[43mchunksize\u001b[49m\u001b[43m,\u001b[49m\u001b[43m \u001b[49m\u001b[43moffset\u001b[49m\u001b[38;5;241;43m=\u001b[39;49m\u001b[43mchunksize\u001b[49m\u001b[38;5;241;43m*\u001b[39;49m\u001b[43mi\u001b[49m\u001b[38;5;241;43m*\u001b[39;49m\u001b[38;5;241;43m4\u001b[39;49m\u001b[43m,\u001b[49m\u001b[43m \u001b[49m\u001b[43m)\u001b[49m\u001b[38;5;241m.\u001b[39mreshape(\u001b[38;5;241m500\u001b[39m, X, Y) \u001b[38;5;66;03m#loading the whole data (no creativity)\u001b[39;00m\n\u001b[0;32m     87\u001b[0m     total \u001b[38;5;241m+\u001b[39m\u001b[38;5;241m=\u001b[39m np\u001b[38;5;241m.\u001b[39msum(data)\n\u001b[0;32m     89\u001b[0m     min_value \u001b[38;5;241m=\u001b[39m \u001b[38;5;28mmin\u001b[39m(min_value, data\u001b[38;5;241m.\u001b[39mmin())\n",
      "\u001b[1;31mFileNotFoundError\u001b[0m: [Errno 2] No such file or directory: 'Redsea_t2_gan\\\\Redsea_t2_4k_gan.DAT'"
     ]
    }
   ],
   "source": [
    "# Delete all existing TileDB arrays\n",
    "delete_tiledb_paths([tiledb_array_path, tiledb_ur_path, tiledb_sr_path, tiledb_vr_path, tiledb_correction_path, tiledb_quantized_correction_path])\n",
    "\n",
    "min_value, max_value, average = create_tiledb_array(dat_file_path, tiledb_array_path)  # Step 1\n",
    "vRange = max_value - min_value # using to calculate error bound\n",
    "print(\"Average of D: \", average)\n",
    "print(\"created D\")"
   ]
  },
  {
   "cell_type": "markdown",
   "metadata": {},
   "source": [
    "### Performing SVD"
   ]
  },
  {
   "cell_type": "code",
   "execution_count": 9,
   "metadata": {},
   "outputs": [
    {
     "ename": "NameError",
     "evalue": "name 'average' is not defined",
     "output_type": "error",
     "traceback": [
      "\u001b[1;31m---------------------------------------------------------------------------\u001b[0m",
      "\u001b[1;31mNameError\u001b[0m                                 Traceback (most recent call last)",
      "Cell \u001b[1;32mIn[9], line 1\u001b[0m\n\u001b[1;32m----> 1\u001b[0m perform_svd_and_store(tiledb_array_path, tiledb_ur_path, tiledb_sr_path, tiledb_vr_path, r, \u001b[43maverage\u001b[49m)  \u001b[38;5;66;03m# Step 2\u001b[39;00m\n\u001b[0;32m      2\u001b[0m \u001b[38;5;28mprint\u001b[39m(\u001b[38;5;124m\"\u001b[39m\u001b[38;5;124mfinished svd\u001b[39m\u001b[38;5;124m\"\u001b[39m)\n",
      "\u001b[1;31mNameError\u001b[0m: name 'average' is not defined"
     ]
    }
   ],
   "source": [
    "perform_svd_and_store(tiledb_array_path, tiledb_ur_path, tiledb_sr_path, tiledb_vr_path, r, average)  # Step 2\n",
    "print(\"finished svd\")\n"
   ]
  },
  {
   "cell_type": "code",
   "execution_count": 10,
   "metadata": {},
   "outputs": [
    {
     "ename": "TileDBError",
     "evalue": "[TileDB::Array] Error: Cannot open array; Array does not exist.",
     "output_type": "error",
     "traceback": [
      "\u001b[1;31m---------------------------------------------------------------------------\u001b[0m",
      "\u001b[1;31mTileDBError\u001b[0m                               Traceback (most recent call last)",
      "Cell \u001b[1;32mIn[10], line 1\u001b[0m\n\u001b[1;32m----> 1\u001b[0m \u001b[38;5;28;01mwith\u001b[39;00m tiledb\u001b[38;5;241m.\u001b[39mDenseArray(tiledb_array_path, mode\u001b[38;5;241m=\u001b[39m\u001b[38;5;124m\"\u001b[39m\u001b[38;5;124mr\u001b[39m\u001b[38;5;124m\"\u001b[39m) \u001b[38;5;28;01mas\u001b[39;00m array_d, \u001b[43mtiledb\u001b[49m\u001b[38;5;241;43m.\u001b[39;49m\u001b[43mDenseArray\u001b[49m\u001b[43m(\u001b[49m\u001b[43mtiledb_ur_path\u001b[49m\u001b[43m,\u001b[49m\u001b[43m \u001b[49m\u001b[43mmode\u001b[49m\u001b[38;5;241;43m=\u001b[39;49m\u001b[38;5;124;43m\"\u001b[39;49m\u001b[38;5;124;43mr\u001b[39;49m\u001b[38;5;124;43m\"\u001b[39;49m\u001b[43m)\u001b[49m \u001b[38;5;28;01mas\u001b[39;00m array_ur, \\\n\u001b[0;32m      2\u001b[0m     tiledb\u001b[38;5;241m.\u001b[39mDenseArray(tiledb_sr_path, mode\u001b[38;5;241m=\u001b[39m\u001b[38;5;124m\"\u001b[39m\u001b[38;5;124mr\u001b[39m\u001b[38;5;124m\"\u001b[39m) \u001b[38;5;28;01mas\u001b[39;00m array_sr, tiledb\u001b[38;5;241m.\u001b[39mDenseArray(tiledb_vr_path, mode\u001b[38;5;241m=\u001b[39m\u001b[38;5;124m\"\u001b[39m\u001b[38;5;124mr\u001b[39m\u001b[38;5;124m\"\u001b[39m) \u001b[38;5;28;01mas\u001b[39;00m array_vr:\n\u001b[0;32m      4\u001b[0m     domain \u001b[38;5;241m=\u001b[39m tiledb\u001b[38;5;241m.\u001b[39mDomain(\n\u001b[0;32m      5\u001b[0m         tiledb\u001b[38;5;241m.\u001b[39mDim(name\u001b[38;5;241m=\u001b[39m\u001b[38;5;124m\"\u001b[39m\u001b[38;5;124mtime\u001b[39m\u001b[38;5;124m\"\u001b[39m, domain\u001b[38;5;241m=\u001b[39m(\u001b[38;5;241m0\u001b[39m, T\u001b[38;5;241m-\u001b[39m\u001b[38;5;241m1\u001b[39m), tile\u001b[38;5;241m=\u001b[39m\u001b[38;5;241m4000\u001b[39m, dtype\u001b[38;5;241m=\u001b[39mnp\u001b[38;5;241m.\u001b[39mint32),\n\u001b[0;32m      6\u001b[0m         tiledb\u001b[38;5;241m.\u001b[39mDim(name\u001b[38;5;241m=\u001b[39m\u001b[38;5;124m\"\u001b[39m\u001b[38;5;124mx\u001b[39m\u001b[38;5;124m\"\u001b[39m, domain\u001b[38;5;241m=\u001b[39m(\u001b[38;5;241m0\u001b[39m, X\u001b[38;5;241m-\u001b[39m\u001b[38;5;241m1\u001b[39m), tile\u001b[38;5;241m=\u001b[39m\u001b[38;5;241m1\u001b[39m, dtype\u001b[38;5;241m=\u001b[39mnp\u001b[38;5;241m.\u001b[39mint32),\n\u001b[0;32m      7\u001b[0m         tiledb\u001b[38;5;241m.\u001b[39mDim(name\u001b[38;5;241m=\u001b[39m\u001b[38;5;124m\"\u001b[39m\u001b[38;5;124my\u001b[39m\u001b[38;5;124m\"\u001b[39m, domain\u001b[38;5;241m=\u001b[39m(\u001b[38;5;241m0\u001b[39m, Y\u001b[38;5;241m-\u001b[39m\u001b[38;5;241m1\u001b[39m), tile\u001b[38;5;241m=\u001b[39m\u001b[38;5;241m1215\u001b[39m, dtype\u001b[38;5;241m=\u001b[39mnp\u001b[38;5;241m.\u001b[39mint32),\n\u001b[0;32m      8\u001b[0m     )\n\u001b[0;32m      9\u001b[0m     schema \u001b[38;5;241m=\u001b[39m tiledb\u001b[38;5;241m.\u001b[39mArraySchema(\n\u001b[0;32m     10\u001b[0m         domain\u001b[38;5;241m=\u001b[39mdomain,\n\u001b[0;32m     11\u001b[0m         sparse\u001b[38;5;241m=\u001b[39m\u001b[38;5;28;01mTrue\u001b[39;00m,\n\u001b[0;32m     12\u001b[0m         attrs\u001b[38;5;241m=\u001b[39m[tiledb\u001b[38;5;241m.\u001b[39mAttr(name\u001b[38;5;241m=\u001b[39m\u001b[38;5;124m\"\u001b[39m\u001b[38;5;124mcorrection\u001b[39m\u001b[38;5;124m\"\u001b[39m, dtype\u001b[38;5;241m=\u001b[39mnp\u001b[38;5;241m.\u001b[39mfloat32)]\n\u001b[0;32m     13\u001b[0m     )\n",
      "File \u001b[1;32mc:\\Users\\atheo\\anaconda3\\envs\\soccernet\\Lib\\site-packages\\tiledb\\dense_array.py:28\u001b[0m, in \u001b[0;36mDenseArrayImpl.__init__\u001b[1;34m(self, *args, **kw)\u001b[0m\n\u001b[0;32m     27\u001b[0m \u001b[38;5;28;01mdef\u001b[39;00m \u001b[38;5;21m__init__\u001b[39m(\u001b[38;5;28mself\u001b[39m, \u001b[38;5;241m*\u001b[39margs, \u001b[38;5;241m*\u001b[39m\u001b[38;5;241m*\u001b[39mkw):\n\u001b[1;32m---> 28\u001b[0m     \u001b[38;5;28;43msuper\u001b[39;49m\u001b[43m(\u001b[49m\u001b[43m)\u001b[49m\u001b[38;5;241;43m.\u001b[39;49m\u001b[38;5;21;43m__init__\u001b[39;49m\u001b[43m(\u001b[49m\u001b[38;5;241;43m*\u001b[39;49m\u001b[43margs\u001b[49m\u001b[43m,\u001b[49m\u001b[43m \u001b[49m\u001b[38;5;241;43m*\u001b[39;49m\u001b[38;5;241;43m*\u001b[39;49m\u001b[43mkw\u001b[49m\u001b[43m)\u001b[49m\n\u001b[0;32m     29\u001b[0m     \u001b[38;5;28;01mif\u001b[39;00m \u001b[38;5;28mself\u001b[39m\u001b[38;5;241m.\u001b[39mschema\u001b[38;5;241m.\u001b[39msparse:\n\u001b[0;32m     30\u001b[0m         \u001b[38;5;28;01mraise\u001b[39;00m \u001b[38;5;167;01mValueError\u001b[39;00m(\u001b[38;5;124mf\u001b[39m\u001b[38;5;124m\"\u001b[39m\u001b[38;5;124mArray at \u001b[39m\u001b[38;5;132;01m{\u001b[39;00m\u001b[38;5;28mself\u001b[39m\u001b[38;5;241m.\u001b[39muri\u001b[38;5;132;01m}\u001b[39;00m\u001b[38;5;124m is not a dense array\u001b[39m\u001b[38;5;124m\"\u001b[39m)\n",
      "File \u001b[1;32mlibtiledb.pyx:534\u001b[0m, in \u001b[0;36mtiledb.libtiledb.Array.__init__\u001b[1;34m()\u001b[0m\n",
      "File \u001b[1;32mlibtiledb.pyx:503\u001b[0m, in \u001b[0;36mtiledb.libtiledb.preload_array\u001b[1;34m()\u001b[0m\n",
      "File \u001b[1;32mlibtiledb.pyx:353\u001b[0m, in \u001b[0;36mtiledb.libtiledb._raise_ctx_err\u001b[1;34m()\u001b[0m\n",
      "File \u001b[1;32mlibtiledb.pyx:338\u001b[0m, in \u001b[0;36mtiledb.libtiledb._raise_tiledb_error\u001b[1;34m()\u001b[0m\n",
      "\u001b[1;31mTileDBError\u001b[0m: [TileDB::Array] Error: Cannot open array; Array does not exist."
     ]
    }
   ],
   "source": [
    "with tiledb.DenseArray(tiledb_array_path, mode=\"r\") as array_d, tiledb.DenseArray(tiledb_ur_path, mode=\"r\") as array_ur, \\\n",
    "    tiledb.DenseArray(tiledb_sr_path, mode=\"r\") as array_sr, tiledb.DenseArray(tiledb_vr_path, mode=\"r\") as array_vr:\n",
    "\n",
    "    domain = tiledb.Domain(\n",
    "        tiledb.Dim(name=\"time\", domain=(0, T-1), tile=4000, dtype=np.int32),\n",
    "        tiledb.Dim(name=\"x\", domain=(0, X-1), tile=1, dtype=np.int32),\n",
    "        tiledb.Dim(name=\"y\", domain=(0, Y-1), tile=1215, dtype=np.int32),\n",
    "    )\n",
    "    schema = tiledb.ArraySchema(\n",
    "        domain=domain,\n",
    "        sparse=True,\n",
    "        attrs=[tiledb.Attr(name=\"correction\", dtype=np.float32)]\n",
    "    )\n",
    "    tiledb.SparseArray.create(tiledb_correction_path, schema) # creating E\n",
    "\n",
    "    for x in tqdm(range(855)): #loading the svd components for each x in D and D\n",
    "        \n",
    "        U_r = array_ur[x,:,:][\"U_r\"]\n",
    "        S_r = array_sr[x, :][\"S_r\"]\n",
    "        V_r = array_vr[x,:,:][\"V_r\"]\n",
    "        D = array_d[:, x, :][\"temperature\"]\n",
    "        \n",
    "        D_prime = reconstruct_matrix(U_r, S_r, V_r, average)\n",
    "        vRange = max_value - min_value\n",
    "        correction = compute_correction(D, D_prime, vRange, epsilon)\n",
    "        store_correction_matrix(correction, tiledb_correction_path, x)\n",
    "    "
   ]
  },
  {
   "cell_type": "code",
   "execution_count": 116,
   "metadata": {},
   "outputs": [
    {
     "name": "stdout",
     "output_type": "stream",
     "text": [
      "size_E:  700.261962 MB\n",
      "size_Ur + size_Sr + size_Vr:  903.940484 MB\n",
      "Final Compression Ratio (ρ): 10.36\n"
     ]
    },
    {
     "data": {
      "text/plain": [
       "10.363107480263746"
      ]
     },
     "execution_count": 116,
     "metadata": {},
     "output_type": "execute_result"
    }
   ],
   "source": [
    "min_error, max_error = creating_quantized_E()\n",
    "calculate_compression_ratio(tiledb_array_path, tiledb_ur_path, tiledb_sr_path, tiledb_vr_path, tiledb_quantized_correction_path)"
   ]
  },
  {
   "cell_type": "code",
   "execution_count": 6,
   "metadata": {},
   "outputs": [
    {
     "ename": "TileDBError",
     "evalue": "[TileDB::Array] Error: Cannot open array; Array does not exist.",
     "output_type": "error",
     "traceback": [
      "\u001b[1;31m---------------------------------------------------------------------------\u001b[0m",
      "\u001b[1;31mTileDBError\u001b[0m                               Traceback (most recent call last)",
      "Cell \u001b[1;32mIn[6], line 1\u001b[0m\n\u001b[1;32m----> 1\u001b[0m \u001b[38;5;28;01mwith\u001b[39;00m \u001b[43mtiledb\u001b[49m\u001b[38;5;241;43m.\u001b[39;49m\u001b[43mDenseArray\u001b[49m\u001b[43m(\u001b[49m\u001b[43mtiledb_array_path\u001b[49m\u001b[43m,\u001b[49m\u001b[43m \u001b[49m\u001b[43mmode\u001b[49m\u001b[38;5;241;43m=\u001b[39;49m\u001b[38;5;124;43m\"\u001b[39;49m\u001b[38;5;124;43mr\u001b[39;49m\u001b[38;5;124;43m\"\u001b[39;49m\u001b[43m)\u001b[49m \u001b[38;5;28;01mas\u001b[39;00m array_d, tiledb\u001b[38;5;241m.\u001b[39mDenseArray(tiledb_ur_path, mode\u001b[38;5;241m=\u001b[39m\u001b[38;5;124m\"\u001b[39m\u001b[38;5;124mr\u001b[39m\u001b[38;5;124m\"\u001b[39m) \u001b[38;5;28;01mas\u001b[39;00m array_ur, \\\n\u001b[0;32m      2\u001b[0m     tiledb\u001b[38;5;241m.\u001b[39mDenseArray(tiledb_sr_path, mode\u001b[38;5;241m=\u001b[39m\u001b[38;5;124m\"\u001b[39m\u001b[38;5;124mr\u001b[39m\u001b[38;5;124m\"\u001b[39m) \u001b[38;5;28;01mas\u001b[39;00m array_sr, tiledb\u001b[38;5;241m.\u001b[39mDenseArray(tiledb_vr_path, mode\u001b[38;5;241m=\u001b[39m\u001b[38;5;124m\"\u001b[39m\u001b[38;5;124mr\u001b[39m\u001b[38;5;124m\"\u001b[39m) \u001b[38;5;28;01mas\u001b[39;00m array_vr, \\\n\u001b[0;32m      3\u001b[0m     tiledb\u001b[38;5;241m.\u001b[39mopen(tiledb_quantized_correction_path) \u001b[38;5;28;01mas\u001b[39;00m array_e:\n\u001b[0;32m      5\u001b[0m     \u001b[38;5;28;01mfor\u001b[39;00m i \u001b[38;5;129;01min\u001b[39;00m \u001b[38;5;28mrange\u001b[39m(\u001b[38;5;241m855\u001b[39m):\n\u001b[0;32m      7\u001b[0m         \u001b[38;5;28mprint\u001b[39m(i)\n",
      "File \u001b[1;32mc:\\Users\\atheo\\anaconda3\\envs\\soccernet\\Lib\\site-packages\\tiledb\\dense_array.py:28\u001b[0m, in \u001b[0;36mDenseArrayImpl.__init__\u001b[1;34m(self, *args, **kw)\u001b[0m\n\u001b[0;32m     27\u001b[0m \u001b[38;5;28;01mdef\u001b[39;00m \u001b[38;5;21m__init__\u001b[39m(\u001b[38;5;28mself\u001b[39m, \u001b[38;5;241m*\u001b[39margs, \u001b[38;5;241m*\u001b[39m\u001b[38;5;241m*\u001b[39mkw):\n\u001b[1;32m---> 28\u001b[0m     \u001b[38;5;28;43msuper\u001b[39;49m\u001b[43m(\u001b[49m\u001b[43m)\u001b[49m\u001b[38;5;241;43m.\u001b[39;49m\u001b[38;5;21;43m__init__\u001b[39;49m\u001b[43m(\u001b[49m\u001b[38;5;241;43m*\u001b[39;49m\u001b[43margs\u001b[49m\u001b[43m,\u001b[49m\u001b[43m \u001b[49m\u001b[38;5;241;43m*\u001b[39;49m\u001b[38;5;241;43m*\u001b[39;49m\u001b[43mkw\u001b[49m\u001b[43m)\u001b[49m\n\u001b[0;32m     29\u001b[0m     \u001b[38;5;28;01mif\u001b[39;00m \u001b[38;5;28mself\u001b[39m\u001b[38;5;241m.\u001b[39mschema\u001b[38;5;241m.\u001b[39msparse:\n\u001b[0;32m     30\u001b[0m         \u001b[38;5;28;01mraise\u001b[39;00m \u001b[38;5;167;01mValueError\u001b[39;00m(\u001b[38;5;124mf\u001b[39m\u001b[38;5;124m\"\u001b[39m\u001b[38;5;124mArray at \u001b[39m\u001b[38;5;132;01m{\u001b[39;00m\u001b[38;5;28mself\u001b[39m\u001b[38;5;241m.\u001b[39muri\u001b[38;5;132;01m}\u001b[39;00m\u001b[38;5;124m is not a dense array\u001b[39m\u001b[38;5;124m\"\u001b[39m)\n",
      "File \u001b[1;32mlibtiledb.pyx:534\u001b[0m, in \u001b[0;36mtiledb.libtiledb.Array.__init__\u001b[1;34m()\u001b[0m\n",
      "File \u001b[1;32mlibtiledb.pyx:503\u001b[0m, in \u001b[0;36mtiledb.libtiledb.preload_array\u001b[1;34m()\u001b[0m\n",
      "File \u001b[1;32mlibtiledb.pyx:353\u001b[0m, in \u001b[0;36mtiledb.libtiledb._raise_ctx_err\u001b[1;34m()\u001b[0m\n",
      "File \u001b[1;32mlibtiledb.pyx:338\u001b[0m, in \u001b[0;36mtiledb.libtiledb._raise_tiledb_error\u001b[1;34m()\u001b[0m\n",
      "\u001b[1;31mTileDBError\u001b[0m: [TileDB::Array] Error: Cannot open array; Array does not exist."
     ]
    }
   ],
   "source": [
    "with tiledb.DenseArray(tiledb_array_path, mode=\"r\") as array_d, tiledb.DenseArray(tiledb_ur_path, mode=\"r\") as array_ur, \\\n",
    "    tiledb.DenseArray(tiledb_sr_path, mode=\"r\") as array_sr, tiledb.DenseArray(tiledb_vr_path, mode=\"r\") as array_vr, \\\n",
    "    tiledb.open(tiledb_quantized_correction_path) as array_e:\n",
    "\n",
    "    for i in range(855):\n",
    "\n",
    "        print(i)\n",
    "\n",
    "        U_r = array_ur[i,:,:][\"U_r\"]\n",
    "        S_r = array_sr[i, :][\"S_r\"]\n",
    "        V_r = array_vr[i,:,:][\"V_r\"]\n",
    "        D = array_d[:, i, :][\"temperature\"]\n",
    "        \n",
    "        S_r_diag = np.diag(S_r)\n",
    "        D_prime = np.dot(U_r, np.dot(S_r_diag, V_r)) + average\n",
    "\n",
    "        errors = array_e[:,i,:]\n",
    "\n",
    "        dequantized = errors[\"correction\"]\n",
    "\n",
    "        dequantized = dequantized.astype(np.float32) / (2**16 - 1) * (max_error - min_error) + min_error\n",
    "\n",
    "        rows, cols = errors[\"time\"], errors[\"y\"]\n",
    "\n",
    "        for row, col, value in zip(rows, cols, dequantized):\n",
    "\n",
    "            D_prime[row, col] += value\n",
    "\n",
    "        # now its d_prime_prime\n",
    "\n",
    "        distances = np.abs(D - D_prime)\n",
    "\n",
    "        print(np.max(distances))\n",
    "\n",
    "        # assert np.all((distances / vRange) <= epsilon)\n",
    "\n",
    "\n",
    "print(\"Passed test!\")\n"
   ]
  },
  {
   "cell_type": "code",
   "execution_count": null,
   "metadata": {},
   "outputs": [],
   "source": []
  }
 ],
 "metadata": {
  "kernelspec": {
   "display_name": "soccernet",
   "language": "python",
   "name": "python3"
  },
  "language_info": {
   "codemirror_mode": {
    "name": "ipython",
    "version": 3
   },
   "file_extension": ".py",
   "mimetype": "text/x-python",
   "name": "python",
   "nbconvert_exporter": "python",
   "pygments_lexer": "ipython3",
   "version": "3.11.9"
  }
 },
 "nbformat": 4,
 "nbformat_minor": 2
}
